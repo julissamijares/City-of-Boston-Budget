{
  "nbformat": 4,
  "nbformat_minor": 0,
  "metadata": {
    "colab": {
      "provenance": [],
      "authorship_tag": "ABX9TyOQHE4aP7BsDSRLvoX0PbAg"
    },
    "kernelspec": {
      "name": "python3",
      "display_name": "Python 3"
    },
    "language_info": {
      "name": "python"
    }
  },
  "cells": [
    {
      "cell_type": "code",
      "execution_count": null,
      "metadata": {
        "colab": {
          "base_uri": "https://localhost:8080/"
        },
        "id": "D1w_MPdjH1hL",
        "outputId": "69d279a3-cb63-498a-e8ec-13da23f03d3a"
      },
      "outputs": [
        {
          "output_type": "stream",
          "name": "stdout",
          "text": [
            "Mounted at /content/drive\n"
          ]
        }
      ],
      "source": [
        "from google.colab import drive\n",
        "drive.mount('/content/drive')"
      ]
    },
    {
      "cell_type": "code",
      "source": [
        "#install required packages\n",
        "import numpy as np\n",
        "import pandas as pd\n",
        "import matplotlib.pyplot as plt\n",
        "%matplotlib inline\n",
        "import seaborn as sns\n",
        "from plotnine import *"
      ],
      "metadata": {
        "id": "cZ6MaT1zH-y5"
      },
      "execution_count": null,
      "outputs": []
    },
    {
      "cell_type": "code",
      "source": [
        "#load the data\n",
        "df = pd.read_csv(\"/content/drive/My Drive/WORK/SI_Budget_Report/Datasets/fy24-adopted-operating-budget.csv\")\n",
        "\n",
        "df.head()"
      ],
      "metadata": {
        "colab": {
          "base_uri": "https://localhost:8080/",
          "height": 206
        },
        "id": "9XBX4oMHIJbf",
        "outputId": "c5e5b448-f6c8-4e53-dc73-04db66233260"
      },
      "execution_count": null,
      "outputs": [
        {
          "output_type": "execute_result",
          "data": {
            "text/plain": [
              "           Cabinet            Dept                 Program  \\\n",
              "0  Mayor's Cabinet  Mayor's Office  Mayor's Administration   \n",
              "1  Mayor's Cabinet  Mayor's Office  Mayor's Administration   \n",
              "2  Mayor's Cabinet  Mayor's Office  Mayor's Administration   \n",
              "3  Mayor's Cabinet  Mayor's Office  Mayor's Administration   \n",
              "4  Mayor's Cabinet  Mayor's Office  Mayor's Administration   \n",
              "\n",
              "                Expense Category FY21 Actual Expense FY22 Actual Expense  \\\n",
              "0             Personnel Services          1820538.46          1624903.69   \n",
              "1           Contractual Services           127557.82            284597.9   \n",
              "2           Supplies & Materials            27318.17            28541.55   \n",
              "3  Current Charges & Obligations            11365.77             19410.3   \n",
              "4                      Equipment             39040.6            16164.36   \n",
              "\n",
              "  FY23 Appropriation FY24 Adopted  \n",
              "0        1584054.209   1921403.81  \n",
              "1              99314    219633.42  \n",
              "2              44938     55573.65  \n",
              "3              29630     16734.29  \n",
              "4              24900        36115  "
            ],
            "text/html": [
              "\n",
              "  <div id=\"df-68c88442-9ea1-4102-a9e6-e018d7a95818\" class=\"colab-df-container\">\n",
              "    <div>\n",
              "<style scoped>\n",
              "    .dataframe tbody tr th:only-of-type {\n",
              "        vertical-align: middle;\n",
              "    }\n",
              "\n",
              "    .dataframe tbody tr th {\n",
              "        vertical-align: top;\n",
              "    }\n",
              "\n",
              "    .dataframe thead th {\n",
              "        text-align: right;\n",
              "    }\n",
              "</style>\n",
              "<table border=\"1\" class=\"dataframe\">\n",
              "  <thead>\n",
              "    <tr style=\"text-align: right;\">\n",
              "      <th></th>\n",
              "      <th>Cabinet</th>\n",
              "      <th>Dept</th>\n",
              "      <th>Program</th>\n",
              "      <th>Expense Category</th>\n",
              "      <th>FY21 Actual Expense</th>\n",
              "      <th>FY22 Actual Expense</th>\n",
              "      <th>FY23 Appropriation</th>\n",
              "      <th>FY24 Adopted</th>\n",
              "    </tr>\n",
              "  </thead>\n",
              "  <tbody>\n",
              "    <tr>\n",
              "      <th>0</th>\n",
              "      <td>Mayor's Cabinet</td>\n",
              "      <td>Mayor's Office</td>\n",
              "      <td>Mayor's Administration</td>\n",
              "      <td>Personnel Services</td>\n",
              "      <td>1820538.46</td>\n",
              "      <td>1624903.69</td>\n",
              "      <td>1584054.209</td>\n",
              "      <td>1921403.81</td>\n",
              "    </tr>\n",
              "    <tr>\n",
              "      <th>1</th>\n",
              "      <td>Mayor's Cabinet</td>\n",
              "      <td>Mayor's Office</td>\n",
              "      <td>Mayor's Administration</td>\n",
              "      <td>Contractual Services</td>\n",
              "      <td>127557.82</td>\n",
              "      <td>284597.9</td>\n",
              "      <td>99314</td>\n",
              "      <td>219633.42</td>\n",
              "    </tr>\n",
              "    <tr>\n",
              "      <th>2</th>\n",
              "      <td>Mayor's Cabinet</td>\n",
              "      <td>Mayor's Office</td>\n",
              "      <td>Mayor's Administration</td>\n",
              "      <td>Supplies &amp; Materials</td>\n",
              "      <td>27318.17</td>\n",
              "      <td>28541.55</td>\n",
              "      <td>44938</td>\n",
              "      <td>55573.65</td>\n",
              "    </tr>\n",
              "    <tr>\n",
              "      <th>3</th>\n",
              "      <td>Mayor's Cabinet</td>\n",
              "      <td>Mayor's Office</td>\n",
              "      <td>Mayor's Administration</td>\n",
              "      <td>Current Charges &amp; Obligations</td>\n",
              "      <td>11365.77</td>\n",
              "      <td>19410.3</td>\n",
              "      <td>29630</td>\n",
              "      <td>16734.29</td>\n",
              "    </tr>\n",
              "    <tr>\n",
              "      <th>4</th>\n",
              "      <td>Mayor's Cabinet</td>\n",
              "      <td>Mayor's Office</td>\n",
              "      <td>Mayor's Administration</td>\n",
              "      <td>Equipment</td>\n",
              "      <td>39040.6</td>\n",
              "      <td>16164.36</td>\n",
              "      <td>24900</td>\n",
              "      <td>36115</td>\n",
              "    </tr>\n",
              "  </tbody>\n",
              "</table>\n",
              "</div>\n",
              "    <div class=\"colab-df-buttons\">\n",
              "\n",
              "  <div class=\"colab-df-container\">\n",
              "    <button class=\"colab-df-convert\" onclick=\"convertToInteractive('df-68c88442-9ea1-4102-a9e6-e018d7a95818')\"\n",
              "            title=\"Convert this dataframe to an interactive table.\"\n",
              "            style=\"display:none;\">\n",
              "\n",
              "  <svg xmlns=\"http://www.w3.org/2000/svg\" height=\"24px\" viewBox=\"0 -960 960 960\">\n",
              "    <path d=\"M120-120v-720h720v720H120Zm60-500h600v-160H180v160Zm220 220h160v-160H400v160Zm0 220h160v-160H400v160ZM180-400h160v-160H180v160Zm440 0h160v-160H620v160ZM180-180h160v-160H180v160Zm440 0h160v-160H620v160Z\"/>\n",
              "  </svg>\n",
              "    </button>\n",
              "\n",
              "  <style>\n",
              "    .colab-df-container {\n",
              "      display:flex;\n",
              "      gap: 12px;\n",
              "    }\n",
              "\n",
              "    .colab-df-convert {\n",
              "      background-color: #E8F0FE;\n",
              "      border: none;\n",
              "      border-radius: 50%;\n",
              "      cursor: pointer;\n",
              "      display: none;\n",
              "      fill: #1967D2;\n",
              "      height: 32px;\n",
              "      padding: 0 0 0 0;\n",
              "      width: 32px;\n",
              "    }\n",
              "\n",
              "    .colab-df-convert:hover {\n",
              "      background-color: #E2EBFA;\n",
              "      box-shadow: 0px 1px 2px rgba(60, 64, 67, 0.3), 0px 1px 3px 1px rgba(60, 64, 67, 0.15);\n",
              "      fill: #174EA6;\n",
              "    }\n",
              "\n",
              "    .colab-df-buttons div {\n",
              "      margin-bottom: 4px;\n",
              "    }\n",
              "\n",
              "    [theme=dark] .colab-df-convert {\n",
              "      background-color: #3B4455;\n",
              "      fill: #D2E3FC;\n",
              "    }\n",
              "\n",
              "    [theme=dark] .colab-df-convert:hover {\n",
              "      background-color: #434B5C;\n",
              "      box-shadow: 0px 1px 3px 1px rgba(0, 0, 0, 0.15);\n",
              "      filter: drop-shadow(0px 1px 2px rgba(0, 0, 0, 0.3));\n",
              "      fill: #FFFFFF;\n",
              "    }\n",
              "  </style>\n",
              "\n",
              "    <script>\n",
              "      const buttonEl =\n",
              "        document.querySelector('#df-68c88442-9ea1-4102-a9e6-e018d7a95818 button.colab-df-convert');\n",
              "      buttonEl.style.display =\n",
              "        google.colab.kernel.accessAllowed ? 'block' : 'none';\n",
              "\n",
              "      async function convertToInteractive(key) {\n",
              "        const element = document.querySelector('#df-68c88442-9ea1-4102-a9e6-e018d7a95818');\n",
              "        const dataTable =\n",
              "          await google.colab.kernel.invokeFunction('convertToInteractive',\n",
              "                                                    [key], {});\n",
              "        if (!dataTable) return;\n",
              "\n",
              "        const docLinkHtml = 'Like what you see? Visit the ' +\n",
              "          '<a target=\"_blank\" href=https://colab.research.google.com/notebooks/data_table.ipynb>data table notebook</a>'\n",
              "          + ' to learn more about interactive tables.';\n",
              "        element.innerHTML = '';\n",
              "        dataTable['output_type'] = 'display_data';\n",
              "        await google.colab.output.renderOutput(dataTable, element);\n",
              "        const docLink = document.createElement('div');\n",
              "        docLink.innerHTML = docLinkHtml;\n",
              "        element.appendChild(docLink);\n",
              "      }\n",
              "    </script>\n",
              "  </div>\n",
              "\n",
              "\n",
              "<div id=\"df-662e8fd2-466c-4287-ae75-112882ce8862\">\n",
              "  <button class=\"colab-df-quickchart\" onclick=\"quickchart('df-662e8fd2-466c-4287-ae75-112882ce8862')\"\n",
              "            title=\"Suggest charts\"\n",
              "            style=\"display:none;\">\n",
              "\n",
              "<svg xmlns=\"http://www.w3.org/2000/svg\" height=\"24px\"viewBox=\"0 0 24 24\"\n",
              "     width=\"24px\">\n",
              "    <g>\n",
              "        <path d=\"M19 3H5c-1.1 0-2 .9-2 2v14c0 1.1.9 2 2 2h14c1.1 0 2-.9 2-2V5c0-1.1-.9-2-2-2zM9 17H7v-7h2v7zm4 0h-2V7h2v10zm4 0h-2v-4h2v4z\"/>\n",
              "    </g>\n",
              "</svg>\n",
              "  </button>\n",
              "\n",
              "<style>\n",
              "  .colab-df-quickchart {\n",
              "      --bg-color: #E8F0FE;\n",
              "      --fill-color: #1967D2;\n",
              "      --hover-bg-color: #E2EBFA;\n",
              "      --hover-fill-color: #174EA6;\n",
              "      --disabled-fill-color: #AAA;\n",
              "      --disabled-bg-color: #DDD;\n",
              "  }\n",
              "\n",
              "  [theme=dark] .colab-df-quickchart {\n",
              "      --bg-color: #3B4455;\n",
              "      --fill-color: #D2E3FC;\n",
              "      --hover-bg-color: #434B5C;\n",
              "      --hover-fill-color: #FFFFFF;\n",
              "      --disabled-bg-color: #3B4455;\n",
              "      --disabled-fill-color: #666;\n",
              "  }\n",
              "\n",
              "  .colab-df-quickchart {\n",
              "    background-color: var(--bg-color);\n",
              "    border: none;\n",
              "    border-radius: 50%;\n",
              "    cursor: pointer;\n",
              "    display: none;\n",
              "    fill: var(--fill-color);\n",
              "    height: 32px;\n",
              "    padding: 0;\n",
              "    width: 32px;\n",
              "  }\n",
              "\n",
              "  .colab-df-quickchart:hover {\n",
              "    background-color: var(--hover-bg-color);\n",
              "    box-shadow: 0 1px 2px rgba(60, 64, 67, 0.3), 0 1px 3px 1px rgba(60, 64, 67, 0.15);\n",
              "    fill: var(--button-hover-fill-color);\n",
              "  }\n",
              "\n",
              "  .colab-df-quickchart-complete:disabled,\n",
              "  .colab-df-quickchart-complete:disabled:hover {\n",
              "    background-color: var(--disabled-bg-color);\n",
              "    fill: var(--disabled-fill-color);\n",
              "    box-shadow: none;\n",
              "  }\n",
              "\n",
              "  .colab-df-spinner {\n",
              "    border: 2px solid var(--fill-color);\n",
              "    border-color: transparent;\n",
              "    border-bottom-color: var(--fill-color);\n",
              "    animation:\n",
              "      spin 1s steps(1) infinite;\n",
              "  }\n",
              "\n",
              "  @keyframes spin {\n",
              "    0% {\n",
              "      border-color: transparent;\n",
              "      border-bottom-color: var(--fill-color);\n",
              "      border-left-color: var(--fill-color);\n",
              "    }\n",
              "    20% {\n",
              "      border-color: transparent;\n",
              "      border-left-color: var(--fill-color);\n",
              "      border-top-color: var(--fill-color);\n",
              "    }\n",
              "    30% {\n",
              "      border-color: transparent;\n",
              "      border-left-color: var(--fill-color);\n",
              "      border-top-color: var(--fill-color);\n",
              "      border-right-color: var(--fill-color);\n",
              "    }\n",
              "    40% {\n",
              "      border-color: transparent;\n",
              "      border-right-color: var(--fill-color);\n",
              "      border-top-color: var(--fill-color);\n",
              "    }\n",
              "    60% {\n",
              "      border-color: transparent;\n",
              "      border-right-color: var(--fill-color);\n",
              "    }\n",
              "    80% {\n",
              "      border-color: transparent;\n",
              "      border-right-color: var(--fill-color);\n",
              "      border-bottom-color: var(--fill-color);\n",
              "    }\n",
              "    90% {\n",
              "      border-color: transparent;\n",
              "      border-bottom-color: var(--fill-color);\n",
              "    }\n",
              "  }\n",
              "</style>\n",
              "\n",
              "  <script>\n",
              "    async function quickchart(key) {\n",
              "      const quickchartButtonEl =\n",
              "        document.querySelector('#' + key + ' button');\n",
              "      quickchartButtonEl.disabled = true;  // To prevent multiple clicks.\n",
              "      quickchartButtonEl.classList.add('colab-df-spinner');\n",
              "      try {\n",
              "        const charts = await google.colab.kernel.invokeFunction(\n",
              "            'suggestCharts', [key], {});\n",
              "      } catch (error) {\n",
              "        console.error('Error during call to suggestCharts:', error);\n",
              "      }\n",
              "      quickchartButtonEl.classList.remove('colab-df-spinner');\n",
              "      quickchartButtonEl.classList.add('colab-df-quickchart-complete');\n",
              "    }\n",
              "    (() => {\n",
              "      let quickchartButtonEl =\n",
              "        document.querySelector('#df-662e8fd2-466c-4287-ae75-112882ce8862 button');\n",
              "      quickchartButtonEl.style.display =\n",
              "        google.colab.kernel.accessAllowed ? 'block' : 'none';\n",
              "    })();\n",
              "  </script>\n",
              "</div>\n",
              "    </div>\n",
              "  </div>\n"
            ],
            "application/vnd.google.colaboratory.intrinsic+json": {
              "type": "dataframe",
              "variable_name": "df",
              "summary": "{\n  \"name\": \"df\",\n  \"rows\": 900,\n  \"fields\": [\n    {\n      \"column\": \"Cabinet\",\n      \"properties\": {\n        \"dtype\": \"category\",\n        \"num_unique_values\": 21,\n        \"samples\": [\n          \"Mayor's Cabinet\",\n          \"Streets Cabinet\",\n          \"Information & Technology Cabinet\"\n        ],\n        \"semantic_type\": \"\",\n        \"description\": \"\"\n      }\n    },\n    {\n      \"column\": \"Dept\",\n      \"properties\": {\n        \"dtype\": \"category\",\n        \"num_unique_values\": 82,\n        \"samples\": [\n          \"Office of Historic Preservation\",\n          \"Mayor's Office\",\n          \"Consumer Affairs & Licensing\"\n        ],\n        \"semantic_type\": \"\",\n        \"description\": \"\"\n      }\n    },\n    {\n      \"column\": \"Program\",\n      \"properties\": {\n        \"dtype\": \"category\",\n        \"num_unique_values\": 220,\n        \"samples\": [\n          \"Depositions\",\n          \"Age Strong Transportation\",\n          \"Auditing Administration\"\n        ],\n        \"semantic_type\": \"\",\n        \"description\": \"\"\n      }\n    },\n    {\n      \"column\": \"Expense Category\",\n      \"properties\": {\n        \"dtype\": \"category\",\n        \"num_unique_values\": 7,\n        \"samples\": [\n          \"Personnel Services\",\n          \"Contractual Services\",\n          \"Other Expenses\"\n        ],\n        \"semantic_type\": \"\",\n        \"description\": \"\"\n      }\n    },\n    {\n      \"column\": \"FY21 Actual Expense\",\n      \"properties\": {\n        \"dtype\": \"string\",\n        \"num_unique_values\": 710,\n        \"samples\": [\n          \"125526.87\",\n          \"4886.83\",\n          \"5331228\"\n        ],\n        \"semantic_type\": \"\",\n        \"description\": \"\"\n      }\n    },\n    {\n      \"column\": \"FY22 Actual Expense\",\n      \"properties\": {\n        \"dtype\": \"string\",\n        \"num_unique_values\": 755,\n        \"samples\": [\n          \"3036535.57\",\n          \"4074174.55\",\n          \"11120.92\"\n        ],\n        \"semantic_type\": \"\",\n        \"description\": \"\"\n      }\n    },\n    {\n      \"column\": \"FY23 Appropriation\",\n      \"properties\": {\n        \"dtype\": \"string\",\n        \"num_unique_values\": 698,\n        \"samples\": [\n          \"1811985.679\",\n          \"188688\",\n          \"175331.303\"\n        ],\n        \"semantic_type\": \"\",\n        \"description\": \"\"\n      }\n    },\n    {\n      \"column\": \"FY24 Adopted\",\n      \"properties\": {\n        \"dtype\": \"string\",\n        \"num_unique_values\": 738,\n        \"samples\": [\n          \"645566.8885\",\n          \"16500\",\n          \"229918721\"\n        ],\n        \"semantic_type\": \"\",\n        \"description\": \"\"\n      }\n    }\n  ]\n}"
            }
          },
          "metadata": {},
          "execution_count": 12
        }
      ]
    },
    {
      "cell_type": "code",
      "source": [
        "df.shape"
      ],
      "metadata": {
        "colab": {
          "base_uri": "https://localhost:8080/"
        },
        "id": "qnqIpDdtIaMI",
        "outputId": "fda9388c-0b7f-4348-ab88-0aab27efaf24"
      },
      "execution_count": null,
      "outputs": [
        {
          "output_type": "execute_result",
          "data": {
            "text/plain": [
              "(900, 8)"
            ]
          },
          "metadata": {},
          "execution_count": 4
        }
      ]
    },
    {
      "cell_type": "code",
      "source": [
        "# Rename columns\n",
        "df.rename(columns={\n",
        "    \"FY21 Actual Expense\": \"FY21\",\n",
        "    \"FY22 Actual Expense\": \"FY22\",\n",
        "    \"FY23 Appropriation\": \"FY23\",\n",
        "    \"FY24 Adopted\": \"FY24\",\n",
        "    \"Dept\": \"Department\"\n",
        "}, inplace=True)"
      ],
      "metadata": {
        "id": "xFvzqUCs5Aj4"
      },
      "execution_count": null,
      "outputs": []
    },
    {
      "cell_type": "code",
      "source": [
        "# Remove leading and trailing whitespaces from all columns\n",
        "df = df.applymap(lambda x: x.strip() if isinstance(x, str) else x)\n",
        "\n",
        "# Replace '#Missing' with NaN (null values)\n",
        "df.replace(\"#Missing\", pd.NA, inplace=True)"
      ],
      "metadata": {
        "id": "pt-blVFkIbgt"
      },
      "execution_count": null,
      "outputs": []
    },
    {
      "cell_type": "code",
      "source": [
        "# Originally 900 rows, decided to drop all rows with null values\n",
        "\n",
        "# Drop rows with null values\n",
        "df= df.dropna()"
      ],
      "metadata": {
        "id": "Cfnu7eYeIogC"
      },
      "execution_count": null,
      "outputs": []
    },
    {
      "cell_type": "code",
      "source": [
        "df.info()"
      ],
      "metadata": {
        "colab": {
          "base_uri": "https://localhost:8080/"
        },
        "id": "Teqe93p-JI4c",
        "outputId": "3f3b3d83-5d00-4974-9ed5-00017e932b66"
      },
      "execution_count": null,
      "outputs": [
        {
          "output_type": "stream",
          "name": "stdout",
          "text": [
            "<class 'pandas.core.frame.DataFrame'>\n",
            "Int64Index: 656 entries, 0 to 898\n",
            "Data columns (total 8 columns):\n",
            " #   Column            Non-Null Count  Dtype \n",
            "---  ------            --------------  ----- \n",
            " 0   Cabinet           656 non-null    object\n",
            " 1   Department        656 non-null    object\n",
            " 2   Program           656 non-null    object\n",
            " 3   Expense Category  656 non-null    object\n",
            " 4   FY21              656 non-null    object\n",
            " 5   FY22              656 non-null    object\n",
            " 6   FY23              656 non-null    object\n",
            " 7   FY24              656 non-null    object\n",
            "dtypes: object(8)\n",
            "memory usage: 46.1+ KB\n"
          ]
        }
      ]
    },
    {
      "cell_type": "code",
      "source": [
        "# Convert specific columns to int64\n",
        "columns_to_convert = ['FY21', 'FY22', 'FY23', 'FY24']\n",
        "df[columns_to_convert] = df[columns_to_convert].replace(',', '', regex=True).astype('float64')"
      ],
      "metadata": {
        "id": "Arb8hBzGVsl1",
        "colab": {
          "base_uri": "https://localhost:8080/"
        },
        "outputId": "795683b7-6fc5-449f-d57b-33de646f28d2"
      },
      "execution_count": null,
      "outputs": [
        {
          "output_type": "stream",
          "name": "stderr",
          "text": [
            "<ipython-input-22-9d7da590463f>:3: SettingWithCopyWarning: \n",
            "A value is trying to be set on a copy of a slice from a DataFrame.\n",
            "Try using .loc[row_indexer,col_indexer] = value instead\n",
            "\n",
            "See the caveats in the documentation: https://pandas.pydata.org/pandas-docs/stable/user_guide/indexing.html#returning-a-view-versus-a-copy\n"
          ]
        }
      ]
    },
    {
      "cell_type": "code",
      "source": [
        "df.info()"
      ],
      "metadata": {
        "colab": {
          "base_uri": "https://localhost:8080/"
        },
        "id": "ySDvxfm3W2Ev",
        "outputId": "ef291588-b733-45b9-8de6-9487b2bf090f"
      },
      "execution_count": null,
      "outputs": [
        {
          "output_type": "stream",
          "name": "stdout",
          "text": [
            "<class 'pandas.core.frame.DataFrame'>\n",
            "Int64Index: 656 entries, 0 to 898\n",
            "Data columns (total 8 columns):\n",
            " #   Column            Non-Null Count  Dtype  \n",
            "---  ------            --------------  -----  \n",
            " 0   Cabinet           656 non-null    object \n",
            " 1   Department        656 non-null    object \n",
            " 2   Program           656 non-null    object \n",
            " 3   Expense Category  656 non-null    object \n",
            " 4   FY21              656 non-null    float64\n",
            " 5   FY22              656 non-null    float64\n",
            " 6   FY23              656 non-null    float64\n",
            " 7   FY24              656 non-null    float64\n",
            "dtypes: float64(4), object(4)\n",
            "memory usage: 46.1+ KB\n"
          ]
        }
      ]
    },
    {
      "cell_type": "code",
      "source": [
        "## Export to csv file\n",
        "df.to_csv('/content/drive/My Drive/WORK/SI_Budget_Report/clean_OpBudget.csv', index=False)"
      ],
      "metadata": {
        "id": "xzXS-iiUHJQx"
      },
      "execution_count": null,
      "outputs": []
    }
  ]
}