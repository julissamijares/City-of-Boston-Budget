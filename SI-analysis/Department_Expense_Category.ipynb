{
  "nbformat": 4,
  "nbformat_minor": 0,
  "metadata": {
    "colab": {
      "provenance": [],
      "authorship_tag": "ABX9TyN9RV03noywgydy5jpnUFSQ",
      "include_colab_link": true
    },
    "kernelspec": {
      "name": "python3",
      "display_name": "Python 3"
    },
    "language_info": {
      "name": "python"
    }
  },
  "cells": [
    {
      "cell_type": "markdown",
      "metadata": {
        "id": "view-in-github",
        "colab_type": "text"
      },
      "source": [
        "<a href=\"https://colab.research.google.com/github/julissamijares/SI-boston-city-budget/blob/main/SI-analysis/Department_Expense_Category.ipynb\" target=\"_parent\"><img src=\"https://colab.research.google.com/assets/colab-badge.svg\" alt=\"Open In Colab\"/></a>"
      ]
    },
    {
      "cell_type": "code",
      "execution_count": null,
      "metadata": {
        "colab": {
          "base_uri": "https://localhost:8080/"
        },
        "id": "yrxBXodeeJn8",
        "outputId": "0b70ff8f-8d2a-4a98-af04-b04fae693753"
      },
      "outputs": [
        {
          "output_type": "stream",
          "name": "stdout",
          "text": [
            "Mounted at /content/drive\n"
          ]
        }
      ],
      "source": [
        "from google.colab import drive\n",
        "drive.mount('/content/drive')"
      ]
    },
    {
      "cell_type": "code",
      "source": [
        "#install required packages\n",
        "import numpy as np\n",
        "import pandas as pd\n",
        "import matplotlib.pyplot as plt\n",
        "%matplotlib inline\n",
        "import seaborn as sns\n",
        "from plotnine import *"
      ],
      "metadata": {
        "id": "5Ur8zzWKkeYk"
      },
      "execution_count": null,
      "outputs": []
    },
    {
      "cell_type": "code",
      "source": [
        "#load the data\n",
        "df = pd.read_csv(\"/content/drive/My Drive/WORK/SI_Budget_Report/Datasets/clean_OpBudget.csv\")\n",
        "\n",
        "df.head()"
      ],
      "metadata": {
        "colab": {
          "base_uri": "https://localhost:8080/",
          "height": 347
        },
        "id": "SlPGLUARkfg3",
        "outputId": "ee01d6c3-236f-47fb-8b5c-ee173baf6c2b"
      },
      "execution_count": null,
      "outputs": [
        {
          "output_type": "execute_result",
          "data": {
            "text/plain": [
              "           Cabinet      Department                 Program  \\\n",
              "0  Mayor's Cabinet  Mayor's Office  Mayor's Administration   \n",
              "1  Mayor's Cabinet  Mayor's Office  Mayor's Administration   \n",
              "2  Mayor's Cabinet  Mayor's Office  Mayor's Administration   \n",
              "3  Mayor's Cabinet  Mayor's Office  Mayor's Administration   \n",
              "4  Mayor's Cabinet  Mayor's Office  Mayor's Administration   \n",
              "\n",
              "                Expense Category        FY21        FY22         FY23  \\\n",
              "0             Personnel Services  1820538.46  1624903.69  1584054.209   \n",
              "1           Contractual Services   127557.82   284597.90    99314.000   \n",
              "2           Supplies & Materials    27318.17    28541.55    44938.000   \n",
              "3  Current Charges & Obligations    11365.77    19410.30    29630.000   \n",
              "4                      Equipment    39040.60    16164.36    24900.000   \n",
              "\n",
              "         FY24  \n",
              "0  1921403.81  \n",
              "1   219633.42  \n",
              "2    55573.65  \n",
              "3    16734.29  \n",
              "4    36115.00  "
            ],
            "text/html": [
              "\n",
              "  <div id=\"df-ca6fb358-c47a-4b6f-bc72-908ca977781e\" class=\"colab-df-container\">\n",
              "    <div>\n",
              "<style scoped>\n",
              "    .dataframe tbody tr th:only-of-type {\n",
              "        vertical-align: middle;\n",
              "    }\n",
              "\n",
              "    .dataframe tbody tr th {\n",
              "        vertical-align: top;\n",
              "    }\n",
              "\n",
              "    .dataframe thead th {\n",
              "        text-align: right;\n",
              "    }\n",
              "</style>\n",
              "<table border=\"1\" class=\"dataframe\">\n",
              "  <thead>\n",
              "    <tr style=\"text-align: right;\">\n",
              "      <th></th>\n",
              "      <th>Cabinet</th>\n",
              "      <th>Department</th>\n",
              "      <th>Program</th>\n",
              "      <th>Expense Category</th>\n",
              "      <th>FY21</th>\n",
              "      <th>FY22</th>\n",
              "      <th>FY23</th>\n",
              "      <th>FY24</th>\n",
              "    </tr>\n",
              "  </thead>\n",
              "  <tbody>\n",
              "    <tr>\n",
              "      <th>0</th>\n",
              "      <td>Mayor's Cabinet</td>\n",
              "      <td>Mayor's Office</td>\n",
              "      <td>Mayor's Administration</td>\n",
              "      <td>Personnel Services</td>\n",
              "      <td>1820538.46</td>\n",
              "      <td>1624903.69</td>\n",
              "      <td>1584054.209</td>\n",
              "      <td>1921403.81</td>\n",
              "    </tr>\n",
              "    <tr>\n",
              "      <th>1</th>\n",
              "      <td>Mayor's Cabinet</td>\n",
              "      <td>Mayor's Office</td>\n",
              "      <td>Mayor's Administration</td>\n",
              "      <td>Contractual Services</td>\n",
              "      <td>127557.82</td>\n",
              "      <td>284597.90</td>\n",
              "      <td>99314.000</td>\n",
              "      <td>219633.42</td>\n",
              "    </tr>\n",
              "    <tr>\n",
              "      <th>2</th>\n",
              "      <td>Mayor's Cabinet</td>\n",
              "      <td>Mayor's Office</td>\n",
              "      <td>Mayor's Administration</td>\n",
              "      <td>Supplies &amp; Materials</td>\n",
              "      <td>27318.17</td>\n",
              "      <td>28541.55</td>\n",
              "      <td>44938.000</td>\n",
              "      <td>55573.65</td>\n",
              "    </tr>\n",
              "    <tr>\n",
              "      <th>3</th>\n",
              "      <td>Mayor's Cabinet</td>\n",
              "      <td>Mayor's Office</td>\n",
              "      <td>Mayor's Administration</td>\n",
              "      <td>Current Charges &amp; Obligations</td>\n",
              "      <td>11365.77</td>\n",
              "      <td>19410.30</td>\n",
              "      <td>29630.000</td>\n",
              "      <td>16734.29</td>\n",
              "    </tr>\n",
              "    <tr>\n",
              "      <th>4</th>\n",
              "      <td>Mayor's Cabinet</td>\n",
              "      <td>Mayor's Office</td>\n",
              "      <td>Mayor's Administration</td>\n",
              "      <td>Equipment</td>\n",
              "      <td>39040.60</td>\n",
              "      <td>16164.36</td>\n",
              "      <td>24900.000</td>\n",
              "      <td>36115.00</td>\n",
              "    </tr>\n",
              "  </tbody>\n",
              "</table>\n",
              "</div>\n",
              "    <div class=\"colab-df-buttons\">\n",
              "\n",
              "  <div class=\"colab-df-container\">\n",
              "    <button class=\"colab-df-convert\" onclick=\"convertToInteractive('df-ca6fb358-c47a-4b6f-bc72-908ca977781e')\"\n",
              "            title=\"Convert this dataframe to an interactive table.\"\n",
              "            style=\"display:none;\">\n",
              "\n",
              "  <svg xmlns=\"http://www.w3.org/2000/svg\" height=\"24px\" viewBox=\"0 -960 960 960\">\n",
              "    <path d=\"M120-120v-720h720v720H120Zm60-500h600v-160H180v160Zm220 220h160v-160H400v160Zm0 220h160v-160H400v160ZM180-400h160v-160H180v160Zm440 0h160v-160H620v160ZM180-180h160v-160H180v160Zm440 0h160v-160H620v160Z\"/>\n",
              "  </svg>\n",
              "    </button>\n",
              "\n",
              "  <style>\n",
              "    .colab-df-container {\n",
              "      display:flex;\n",
              "      gap: 12px;\n",
              "    }\n",
              "\n",
              "    .colab-df-convert {\n",
              "      background-color: #E8F0FE;\n",
              "      border: none;\n",
              "      border-radius: 50%;\n",
              "      cursor: pointer;\n",
              "      display: none;\n",
              "      fill: #1967D2;\n",
              "      height: 32px;\n",
              "      padding: 0 0 0 0;\n",
              "      width: 32px;\n",
              "    }\n",
              "\n",
              "    .colab-df-convert:hover {\n",
              "      background-color: #E2EBFA;\n",
              "      box-shadow: 0px 1px 2px rgba(60, 64, 67, 0.3), 0px 1px 3px 1px rgba(60, 64, 67, 0.15);\n",
              "      fill: #174EA6;\n",
              "    }\n",
              "\n",
              "    .colab-df-buttons div {\n",
              "      margin-bottom: 4px;\n",
              "    }\n",
              "\n",
              "    [theme=dark] .colab-df-convert {\n",
              "      background-color: #3B4455;\n",
              "      fill: #D2E3FC;\n",
              "    }\n",
              "\n",
              "    [theme=dark] .colab-df-convert:hover {\n",
              "      background-color: #434B5C;\n",
              "      box-shadow: 0px 1px 3px 1px rgba(0, 0, 0, 0.15);\n",
              "      filter: drop-shadow(0px 1px 2px rgba(0, 0, 0, 0.3));\n",
              "      fill: #FFFFFF;\n",
              "    }\n",
              "  </style>\n",
              "\n",
              "    <script>\n",
              "      const buttonEl =\n",
              "        document.querySelector('#df-ca6fb358-c47a-4b6f-bc72-908ca977781e button.colab-df-convert');\n",
              "      buttonEl.style.display =\n",
              "        google.colab.kernel.accessAllowed ? 'block' : 'none';\n",
              "\n",
              "      async function convertToInteractive(key) {\n",
              "        const element = document.querySelector('#df-ca6fb358-c47a-4b6f-bc72-908ca977781e');\n",
              "        const dataTable =\n",
              "          await google.colab.kernel.invokeFunction('convertToInteractive',\n",
              "                                                    [key], {});\n",
              "        if (!dataTable) return;\n",
              "\n",
              "        const docLinkHtml = 'Like what you see? Visit the ' +\n",
              "          '<a target=\"_blank\" href=https://colab.research.google.com/notebooks/data_table.ipynb>data table notebook</a>'\n",
              "          + ' to learn more about interactive tables.';\n",
              "        element.innerHTML = '';\n",
              "        dataTable['output_type'] = 'display_data';\n",
              "        await google.colab.output.renderOutput(dataTable, element);\n",
              "        const docLink = document.createElement('div');\n",
              "        docLink.innerHTML = docLinkHtml;\n",
              "        element.appendChild(docLink);\n",
              "      }\n",
              "    </script>\n",
              "  </div>\n",
              "\n",
              "\n",
              "<div id=\"df-6ea952aa-2721-4926-a5dc-c79e1d60fa97\">\n",
              "  <button class=\"colab-df-quickchart\" onclick=\"quickchart('df-6ea952aa-2721-4926-a5dc-c79e1d60fa97')\"\n",
              "            title=\"Suggest charts\"\n",
              "            style=\"display:none;\">\n",
              "\n",
              "<svg xmlns=\"http://www.w3.org/2000/svg\" height=\"24px\"viewBox=\"0 0 24 24\"\n",
              "     width=\"24px\">\n",
              "    <g>\n",
              "        <path d=\"M19 3H5c-1.1 0-2 .9-2 2v14c0 1.1.9 2 2 2h14c1.1 0 2-.9 2-2V5c0-1.1-.9-2-2-2zM9 17H7v-7h2v7zm4 0h-2V7h2v10zm4 0h-2v-4h2v4z\"/>\n",
              "    </g>\n",
              "</svg>\n",
              "  </button>\n",
              "\n",
              "<style>\n",
              "  .colab-df-quickchart {\n",
              "      --bg-color: #E8F0FE;\n",
              "      --fill-color: #1967D2;\n",
              "      --hover-bg-color: #E2EBFA;\n",
              "      --hover-fill-color: #174EA6;\n",
              "      --disabled-fill-color: #AAA;\n",
              "      --disabled-bg-color: #DDD;\n",
              "  }\n",
              "\n",
              "  [theme=dark] .colab-df-quickchart {\n",
              "      --bg-color: #3B4455;\n",
              "      --fill-color: #D2E3FC;\n",
              "      --hover-bg-color: #434B5C;\n",
              "      --hover-fill-color: #FFFFFF;\n",
              "      --disabled-bg-color: #3B4455;\n",
              "      --disabled-fill-color: #666;\n",
              "  }\n",
              "\n",
              "  .colab-df-quickchart {\n",
              "    background-color: var(--bg-color);\n",
              "    border: none;\n",
              "    border-radius: 50%;\n",
              "    cursor: pointer;\n",
              "    display: none;\n",
              "    fill: var(--fill-color);\n",
              "    height: 32px;\n",
              "    padding: 0;\n",
              "    width: 32px;\n",
              "  }\n",
              "\n",
              "  .colab-df-quickchart:hover {\n",
              "    background-color: var(--hover-bg-color);\n",
              "    box-shadow: 0 1px 2px rgba(60, 64, 67, 0.3), 0 1px 3px 1px rgba(60, 64, 67, 0.15);\n",
              "    fill: var(--button-hover-fill-color);\n",
              "  }\n",
              "\n",
              "  .colab-df-quickchart-complete:disabled,\n",
              "  .colab-df-quickchart-complete:disabled:hover {\n",
              "    background-color: var(--disabled-bg-color);\n",
              "    fill: var(--disabled-fill-color);\n",
              "    box-shadow: none;\n",
              "  }\n",
              "\n",
              "  .colab-df-spinner {\n",
              "    border: 2px solid var(--fill-color);\n",
              "    border-color: transparent;\n",
              "    border-bottom-color: var(--fill-color);\n",
              "    animation:\n",
              "      spin 1s steps(1) infinite;\n",
              "  }\n",
              "\n",
              "  @keyframes spin {\n",
              "    0% {\n",
              "      border-color: transparent;\n",
              "      border-bottom-color: var(--fill-color);\n",
              "      border-left-color: var(--fill-color);\n",
              "    }\n",
              "    20% {\n",
              "      border-color: transparent;\n",
              "      border-left-color: var(--fill-color);\n",
              "      border-top-color: var(--fill-color);\n",
              "    }\n",
              "    30% {\n",
              "      border-color: transparent;\n",
              "      border-left-color: var(--fill-color);\n",
              "      border-top-color: var(--fill-color);\n",
              "      border-right-color: var(--fill-color);\n",
              "    }\n",
              "    40% {\n",
              "      border-color: transparent;\n",
              "      border-right-color: var(--fill-color);\n",
              "      border-top-color: var(--fill-color);\n",
              "    }\n",
              "    60% {\n",
              "      border-color: transparent;\n",
              "      border-right-color: var(--fill-color);\n",
              "    }\n",
              "    80% {\n",
              "      border-color: transparent;\n",
              "      border-right-color: var(--fill-color);\n",
              "      border-bottom-color: var(--fill-color);\n",
              "    }\n",
              "    90% {\n",
              "      border-color: transparent;\n",
              "      border-bottom-color: var(--fill-color);\n",
              "    }\n",
              "  }\n",
              "</style>\n",
              "\n",
              "  <script>\n",
              "    async function quickchart(key) {\n",
              "      const quickchartButtonEl =\n",
              "        document.querySelector('#' + key + ' button');\n",
              "      quickchartButtonEl.disabled = true;  // To prevent multiple clicks.\n",
              "      quickchartButtonEl.classList.add('colab-df-spinner');\n",
              "      try {\n",
              "        const charts = await google.colab.kernel.invokeFunction(\n",
              "            'suggestCharts', [key], {});\n",
              "      } catch (error) {\n",
              "        console.error('Error during call to suggestCharts:', error);\n",
              "      }\n",
              "      quickchartButtonEl.classList.remove('colab-df-spinner');\n",
              "      quickchartButtonEl.classList.add('colab-df-quickchart-complete');\n",
              "    }\n",
              "    (() => {\n",
              "      let quickchartButtonEl =\n",
              "        document.querySelector('#df-6ea952aa-2721-4926-a5dc-c79e1d60fa97 button');\n",
              "      quickchartButtonEl.style.display =\n",
              "        google.colab.kernel.accessAllowed ? 'block' : 'none';\n",
              "    })();\n",
              "  </script>\n",
              "</div>\n",
              "    </div>\n",
              "  </div>\n"
            ],
            "application/vnd.google.colaboratory.intrinsic+json": {
              "type": "dataframe",
              "variable_name": "df",
              "summary": "{\n  \"name\": \"df\",\n  \"rows\": 656,\n  \"fields\": [\n    {\n      \"column\": \"Cabinet\",\n      \"properties\": {\n        \"dtype\": \"category\",\n        \"num_unique_values\": 20,\n        \"samples\": [\n          \"Mayor's Cabinet\",\n          \"Streets Cabinet\",\n          \"Information & Technology Cabinet\"\n        ],\n        \"semantic_type\": \"\",\n        \"description\": \"\"\n      }\n    },\n    {\n      \"column\": \"Department\",\n      \"properties\": {\n        \"dtype\": \"category\",\n        \"num_unique_values\": 67,\n        \"samples\": [\n          \"Workers' Compensation Fund\",\n          \"Consumer Affairs & Licensing\",\n          \"Human Right Commission\"\n        ],\n        \"semantic_type\": \"\",\n        \"description\": \"\"\n      }\n    },\n    {\n      \"column\": \"Program\",\n      \"properties\": {\n        \"dtype\": \"category\",\n        \"num_unique_values\": 187,\n        \"samples\": [\n          \"OPEB\",\n          \"Grants Monitoring\",\n          \"Superintendent\"\n        ],\n        \"semantic_type\": \"\",\n        \"description\": \"\"\n      }\n    },\n    {\n      \"column\": \"Expense Category\",\n      \"properties\": {\n        \"dtype\": \"category\",\n        \"num_unique_values\": 7,\n        \"samples\": [\n          \"Personnel Services\",\n          \"Contractual Services\",\n          \"Other Expenses\"\n        ],\n        \"semantic_type\": \"\",\n        \"description\": \"\"\n      }\n    },\n    {\n      \"column\": \"FY21\",\n      \"properties\": {\n        \"dtype\": \"number\",\n        \"std\": 27057224.43143623,\n        \"min\": -825.0,\n        \"max\": 292088778.0,\n        \"num_unique_values\": 646,\n        \"samples\": [\n          1608.09,\n          38411.1,\n          16730.6\n        ],\n        \"semantic_type\": \"\",\n        \"description\": \"\"\n      }\n    },\n    {\n      \"column\": \"FY22\",\n      \"properties\": {\n        \"dtype\": \"number\",\n        \"std\": 28387576.434082914,\n        \"min\": 30.08,\n        \"max\": 323684235.0,\n        \"num_unique_values\": 655,\n        \"samples\": [\n          392110.84,\n          8759.98,\n          13412.0\n        ],\n        \"semantic_type\": \"\",\n        \"description\": \"\"\n      }\n    },\n    {\n      \"column\": \"FY23\",\n      \"properties\": {\n        \"dtype\": \"number\",\n        \"std\": 29684516.48323104,\n        \"min\": 0.0,\n        \"max\": 353855931.0,\n        \"num_unique_values\": 624,\n        \"samples\": [\n          551200.7671,\n          5396952.376,\n          2553989.0\n        ],\n        \"semantic_type\": \"\",\n        \"description\": \"\"\n      }\n    },\n    {\n      \"column\": \"FY24\",\n      \"properties\": {\n        \"dtype\": \"number\",\n        \"std\": 31549648.290353358,\n        \"min\": -46.0,\n        \"max\": 390532774.35,\n        \"num_unique_values\": 635,\n        \"samples\": [\n          99176.0,\n          180445.0,\n          31650.0\n        ],\n        \"semantic_type\": \"\",\n        \"description\": \"\"\n      }\n    }\n  ]\n}"
            }
          },
          "metadata": {},
          "execution_count": 3
        }
      ]
    },
    {
      "cell_type": "markdown",
      "source": [
        "Question: Spending by department"
      ],
      "metadata": {
        "id": "YEITHBEWa01P"
      }
    },
    {
      "cell_type": "code",
      "source": [
        "# Calculate the sum of each year\n",
        "sum_per_year = df[['FY21', 'FY22', 'FY23', 'FY24']].sum()\n",
        "\n",
        "# Calculate the average annual increase\n",
        "average_increase_21_22 = (sum_per_year['FY22'] - sum_per_year['FY21']) / sum_per_year['FY21']\n",
        "average_increase_22_23 = (sum_per_year['FY23'] - sum_per_year['FY22']) / sum_per_year['FY22']\n",
        "average_increase_23_24 = (sum_per_year['FY24'] - sum_per_year['FY23']) / sum_per_year['FY23']\n",
        "\n",
        "print(\"\\nAverage Annual Increase:\")\n",
        "print(f\"FY21 to FY22: {average_increase_21_22:.2%}\")\n",
        "print(f\"FY22 to FY23: {average_increase_22_23:.2%}\")\n",
        "print(f\"FY23 to FY24: {average_increase_23_24:.2%}\")\n"
      ],
      "metadata": {
        "colab": {
          "base_uri": "https://localhost:8080/"
        },
        "id": "WgvMc2hyJTrY",
        "outputId": "9e34589a-29c9-4c86-94d8-7ff382f4d22e"
      },
      "execution_count": null,
      "outputs": [
        {
          "output_type": "stream",
          "name": "stdout",
          "text": [
            "\n",
            "Average Annual Increase:\n",
            "FY21 to FY22: 6.56%\n",
            "FY22 to FY23: 3.56%\n",
            "FY23 to FY24: 6.65%\n"
          ]
        }
      ]
    },
    {
      "cell_type": "code",
      "source": [
        "# Calculate the sum of each year\n",
        "sum_per_year = df[['FY21', 'FY22', 'FY23', 'FY24']].sum() / 1e9  # Divide by 1 billion to scale to B\n",
        "\n",
        "# Plotting\n",
        "plt.figure(figsize=(6, 5))  # Increase figure size\n",
        "plt.plot(sum_per_year.index, sum_per_year.values, marker='o', linestyle='-', color='b', markersize=8, linewidth=2)  # Increase marker size and line width\n",
        "plt.title('Operating Budget Over Time', fontsize=20)  # Increase title font size\n",
        "plt.xlabel('Fiscal Year', fontsize=18)  # Increase x-axis label font size\n",
        "plt.ylabel('Sum of Operating Budget (USD B)', fontsize=16)  # Increase y-axis label font size\n",
        "plt.ylim(3, 4.5)  # Set y-axis range from 3B to 4.5B\n",
        "plt.grid(True)\n",
        "plt.tick_params(axis='both', labelsize=16)  # Increase tick label font size\n",
        "\n",
        "# Adjust column width\n",
        "plt.tight_layout()  # Alternatively, you can use plt.subplots_adjust(left=0.1, right=0.9, top=0.9, bottom=0.1) to manually set margins\n",
        "\n",
        "plt.show()"
      ],
      "metadata": {
        "colab": {
          "base_uri": "https://localhost:8080/",
          "height": 507
        },
        "id": "liIoNZ-yK96f",
        "outputId": "67990317-9548-4743-e7c1-f87299213cd5"
      },
      "execution_count": null,
      "outputs": [
        {
          "output_type": "display_data",
          "data": {
            "text/plain": [
              "<Figure size 600x500 with 1 Axes>"
            ],
            "image/png": "[encoded data removed]"
          },
          "metadata": {}
        }
      ]
    },
    {
      "cell_type": "code",
      "source": [
        "# Calculate the percentage increase for each department from FY21 to FY24\n",
        "department_growth = df.groupby('Department')[['FY21', 'FY22', 'FY23', 'FY24']].sum().pct_change(axis=1).mean(axis=1)\n",
        "\n",
        "# Sort departments based on the average percentage increase in descending order\n",
        "sorted_departments = department_growth.sort_values(ascending=False)\n",
        "\n",
        "# Get the top 5 departments\n",
        "top_5_departments = sorted_departments.head(5)\n",
        "\n",
        "# Print the result\n",
        "print(\"Top 5 Departments based on Average Percentage Increase:\")\n",
        "print(top_5_departments)\n"
      ],
      "metadata": {
        "colab": {
          "base_uri": "https://localhost:8080/"
        },
        "id": "HmZd-CSBMSJ1",
        "outputId": "fa715d6f-4db5-4bbb-ea73-61747bea1303"
      },
      "execution_count": null,
      "outputs": [
        {
          "output_type": "stream",
          "name": "stdout",
          "text": [
            "Top 5 Departments based on Average Percentage Increase:\n",
            "Department\n",
            "Office of Police Accountability & Transparency          inf\n",
            "Workers' Compensation Fund                        64.357280\n",
            "Execution of Courts                                1.368084\n",
            "Annual Audit Costs                                 1.338896\n",
            "Reserve for Collective Bargaining City             1.172103\n",
            "dtype: float64\n"
          ]
        }
      ]
    },
    {
      "cell_type": "code",
      "source": [
        "# Filter the DataFrame for the \"Workers' Compensation Fund\" department\n",
        "# Calculate the percentage increase for each department from FY21 to FY24\n",
        "department_growth2 = df.groupby('Department')[['FY21', 'FY22']].sum().pct_change(axis=1).mean(axis=1)\n",
        "\n",
        "# Sort departments based on the average percentage increase in descending order\n",
        "sorted_departments2 = department_growth2.sort_values(ascending=False)\n",
        "\n",
        "# Filter the statistics for the \"Workers Compensation Department\"\n",
        "workers_comp_stats = department_growth2.loc[[\"Workers' Compensation Fund\"]]\n",
        "\n",
        "# Display the statistics\n",
        "print(\"Percentage Increase for Workers Compensation Department:\")\n",
        "print(workers_comp_stats)"
      ],
      "metadata": {
        "colab": {
          "base_uri": "https://localhost:8080/"
        },
        "id": "tP0tUxKYP9kz",
        "outputId": "3e9f7e86-11e2-468f-f94b-ee801f77f60c"
      },
      "execution_count": null,
      "outputs": [
        {
          "output_type": "stream",
          "name": "stdout",
          "text": [
            "Percentage Increase for Workers Compensation Department:\n",
            "Department\n",
            "Workers' Compensation Fund    192.72493\n",
            "dtype: float64\n"
          ]
        }
      ]
    },
    {
      "cell_type": "code",
      "source": [
        "# Calculate the percentage increase for each department from FY21 to FY24\n",
        "department_growth = df.groupby('Department')[['FY21', 'FY22', 'FY23', 'FY24']].sum().pct_change(axis=1).mean(axis=1)\n",
        "\n",
        "# Sort departments based on the average percentage increase in descending order\n",
        "sorted_departments = department_growth.sort_values(ascending=True)\n",
        "\n",
        "# Get the bottom 5 departments\n",
        "bottom_5_departments = sorted_departments.head(5)\n",
        "\n",
        "# Print the result\n",
        "print(\"Bottom 5 Departments based on Average Percentage Increase:\")\n",
        "print(bottom_5_departments)"
      ],
      "metadata": {
        "colab": {
          "base_uri": "https://localhost:8080/",
          "height": 282
        },
        "id": "i4c-yRu9NH2Y",
        "outputId": "17b6e68d-be6f-4d20-805b-d39838c8117c"
      },
      "execution_count": null,
      "outputs": [
        {
          "output_type": "stream",
          "name": "stdout",
          "text": [
            "Bottom 5 Departments based on Average Percentage Increase:\n",
            "Department\n",
            "Office of Finance             -0.201210\n",
            "Suffolk County Sheriff Dept   -0.083221\n",
            "Library Department            -0.048916\n",
            "Police Department             -0.013767\n",
            "Central Fleet Management      -0.002525\n",
            "dtype: float64\n"
          ]
        },
        {
          "output_type": "display_data",
          "data": {
            "text/plain": [
              "<Figure size 400x100 with 1 Axes>"
            ],
            "image/png": "[encoded data removed]"
          },
          "metadata": {}
        }
      ]
    },
    {
      "cell_type": "code",
      "source": [
        "# Count the number of departments with a decrease and increase in funding\n",
        "num_decrease = (department_growth < 0).sum()\n",
        "num_increase = (department_growth > 0).sum()\n",
        "\n",
        "# Print the result\n",
        "print(f\"Number of departments with a decrease in funding: {num_decrease}\")\n",
        "print(f\"Number of departments with an increase in funding: {num_increase}\")"
      ],
      "metadata": {
        "colab": {
          "base_uri": "https://localhost:8080/"
        },
        "id": "QwTCRETqRRkz",
        "outputId": "c2420cae-cad9-47f2-ab84-fe17dd1589ef"
      },
      "execution_count": null,
      "outputs": [
        {
          "output_type": "stream",
          "name": "stdout",
          "text": [
            "Number of departments with a decrease in funding: 5\n",
            "Number of departments with an increase in funding: 61\n"
          ]
        }
      ]
    },
    {
      "cell_type": "code",
      "source": [
        "# Calculate the total budget for each fiscal year\n",
        "total_budget_per_year = df[['FY21', 'FY22', 'FY23', 'FY24']].sum()\n",
        "\n",
        "# Calculate the proportion for each department and fiscal year\n",
        "proportion_per_department = df.groupby('Department')[['FY21', 'FY22', 'FY23', 'FY24']].sum().div(total_budget_per_year, axis=1) * 100\n",
        "\n",
        "# Calculate the average percentage across all fiscal years for each department\n",
        "average_percentage_per_department = proportion_per_department.mean(axis=1)\n",
        "\n",
        "# Sort departments based on the average percentage in descending order\n",
        "sorted_departments = average_percentage_per_department.sort_values(ascending=False)\n",
        "\n",
        "# Get the top 3 departments\n",
        "top_5_departments = sorted_departments.head(5)\n",
        "\n",
        "# Print the result\n",
        "print(\"Top 5 Departments based on Average Percentage of Total Budget:\")\n",
        "print(top_5_departments)"
      ],
      "metadata": {
        "colab": {
          "base_uri": "https://localhost:8080/",
          "height": 282
        },
        "id": "ND8iB7ZuSJar",
        "outputId": "5cf5644a-bffb-4fcf-c81d-418594485ecb"
      },
      "execution_count": null,
      "outputs": [
        {
          "output_type": "stream",
          "name": "stdout",
          "text": [
            "Top 5 Departments based on Average Percentage of Total Budget:\n",
            "Department\n",
            "Boston Public Schools     34.451662\n",
            "Police Department         10.591611\n",
            "Pensions                   8.697635\n",
            "Fire Department            7.161402\n",
            "Charter School Tuition     6.349668\n",
            "dtype: float64\n"
          ]
        },
        {
          "output_type": "display_data",
          "data": {
            "text/plain": [
              "<Figure size 400x100 with 1 Axes>"
            ],
            "image/png": "[encoded data removed]"
          },
          "metadata": {}
        }
      ]
    },
    {
      "cell_type": "markdown",
      "source": [
        "Question: Spending by budget (expense) category"
      ],
      "metadata": {
        "id": "T7bYfcdrbBtH"
      }
    },
    {
      "cell_type": "code",
      "source": [
        "# Calculate the percentage increase for each department from FY21 to FY24\n",
        "category_growth = df.groupby('Expense Category')[['FY21', 'FY22', 'FY23', 'FY24']].sum().pct_change(axis=1).mean(axis=1)\n",
        "\n",
        "# Sort departments based on the average percentage increase in descending order\n",
        "sorted_category = category_growth.sort_values(ascending=False)\n",
        "\n",
        "print(sorted_category)"
      ],
      "metadata": {
        "colab": {
          "base_uri": "https://localhost:8080/"
        },
        "id": "UqlYOlhgq_dK",
        "outputId": "5bc5b3eb-58cc-4e25-baa1-5b8c2753afb7"
      },
      "execution_count": null,
      "outputs": [
        {
          "output_type": "stream",
          "name": "stdout",
          "text": [
            "Expense Category\n",
            "Fixed Expenses                   0.130486\n",
            "Other Expenses                   0.079912\n",
            "Equipment                        0.065760\n",
            "Contractual Services             0.062510\n",
            "Current Charges & Obligations    0.050558\n",
            "Personnel Services               0.039229\n",
            "Supplies & Materials             0.019635\n",
            "dtype: float64\n"
          ]
        }
      ]
    },
    {
      "cell_type": "code",
      "source": [
        "# Calculate the sum for each Expense Category for each FY\n",
        "category_sum = df.groupby('Expense Category')[['FY21', 'FY22', 'FY23', 'FY24']].sum()\n",
        "\n",
        "# Find the average sum for the four total FY\n",
        "average_sum = category_sum.mean(axis=1)\n",
        "\n",
        "# Calculate the percentage of the average sum each Expense Category takes up\n",
        "percentage_of_total = (average_sum / average_sum.sum()) * 100\n",
        "\n",
        "# Create a new DataFrame for the results\n",
        "result_df = pd.DataFrame({\n",
        "    'Expense Category': category_sum.index,\n",
        "    'Total Sum FY21-FY24': average_sum,\n",
        "    'Percentage of Total': percentage_of_total\n",
        "})\n",
        "\n",
        "# Sort the DataFrame by 'Total Sum FY21-FY24' in descending order\n",
        "result_df = result_df.sort_values(by='Total Sum FY21-FY24', ascending=False)\n",
        "\n",
        "# Reset the index for better presentation\n",
        "result_df = result_df.reset_index(drop=True)\n",
        "\n",
        "# Print the result\n",
        "print(result_df)"
      ],
      "metadata": {
        "colab": {
          "base_uri": "https://localhost:8080/"
        },
        "id": "fH3jOMB6nkub",
        "outputId": "f995ae82-cbfa-483b-8f5e-6b2869c84ca9"
      },
      "execution_count": null,
      "outputs": [
        {
          "output_type": "stream",
          "name": "stdout",
          "text": [
            "                Expense Category  Total Sum FY21-FY24  Percentage of Total\n",
            "0             Personnel Services         1.992844e+09            51.117528\n",
            "1                 Other Expenses         9.018254e+08            23.132314\n",
            "2           Contractual Services         4.574061e+08            11.732715\n",
            "3  Current Charges & Obligations         2.665938e+08             6.838277\n",
            "4                 Fixed Expenses         2.054053e+08             5.268759\n",
            "5           Supplies & Materials         4.091510e+07             1.049495\n",
            "6                      Equipment         3.356309e+07             0.860912\n"
          ]
        }
      ]
    }
  ]
}